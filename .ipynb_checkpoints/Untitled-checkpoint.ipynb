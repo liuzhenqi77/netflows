{
 "cells": [
  {
   "cell_type": "code",
   "execution_count": 5,
   "metadata": {},
   "outputs": [
    {
     "name": "stdout",
     "output_type": "stream",
     "text": [
      "The initial cost is 2.444444, and the initial flow is  [0.33333333 0.33333333 0.33333333]\n",
      "------solve the system optimal flow------\n",
      "0.003333333333333333\n",
      "Iteration 0: The total cost is 2.440759, and the flow is  [0.33       0.33444444 0.33555556]\n",
      "0.299999999999992\n",
      "Iteration 1: The total cost is 2.260744, and the flow is  [0.03333333 0.43444444 0.53222222]\n",
      "0.3013467244921253\n",
      "Iteration 2: The total cost is 2.257526, and the flow is  [0.03266367 0.53288437 0.43445195]\n",
      "0.15034362259755812\n",
      "Iteration 3: The total cost is 2.250109, and the flow is  [0.00313266 0.49339909 0.50346825]\n",
      "0.13845363517631712\n",
      "Iteration 4: The total cost is 2.250020, and the flow is  [0.00322559 0.49801515 0.49875926]\n",
      "0.14902343023892164\n",
      "Iteration 5: The total cost is 2.250007, and the flow is  [0.00189441 0.49882851 0.49927708]\n",
      "0.36176351495104986\n",
      "Iteration 6: The total cost is 2.250000, and the flow is  [7.00631508e-07 5.00000667e-01 4.99998633e-01]\n",
      "0.36180269098524453\n",
      "one of the flows reaches zero\n",
      "Iteration 7: The total cost is 2.250000, and the flow is  [7.00631508e-07 5.00000667e-01 4.99998633e-01]\n"
     ]
    },
    {
     "data": {
      "text/plain": [
       "(2.250000000003249, array([7.00631508e-07, 5.00000667e-01, 4.99998633e-01]))"
      ]
     },
     "execution_count": 5,
     "metadata": {},
     "output_type": "execute_result"
    }
   ],
   "source": [
    "from netflows import Graph\n",
    "import numpy as np\n",
    "from netflows.funcs import WElinearsolve, WEaffinesolve, WEbprsolve\n",
    "from netflows.funcs import SOlinearsolve, SOaffinesolve, SObprsolve\n",
    "\n",
    "adj = np.array([[0, 1, 1, 0], [0, 0, 1, 1], [0, 0, 0, 1], [0, 0, 0, 0]])\n",
    "weights = np.array([[0, 1, 0, 0], [0, 0, 1, 0], [0, 0, 0, 1/2], [0, 0, 0, 0]])\n",
    "dist = np.array([[0, 0, 1, 0], [0, 0, 0, 2], [0, 0, 0, 0], [0, 0, 0, 0]])\n",
    "G = Graph(adj = adj.T, dist=dist.T, weights=weights.T)\n",
    "G.findallpaths(0, 3, cutoff=4)\n",
    "\n",
    "SOaffinesolve(G, 0, 3, maximum_iter=10000, tol=1e-12)"
   ]
  },
  {
   "cell_type": "code",
   "execution_count": 6,
   "metadata": {
    "collapsed": true
   },
   "outputs": [],
   "source": [
    "from scipy.io import loadmat"
   ]
  },
  {
   "cell_type": "code",
   "execution_count": 7,
   "metadata": {
    "collapsed": true
   },
   "outputs": [],
   "source": [
    "data = loadmat('/Users/yingqiuzheng/Desktop/Research/selfish_routing/data/G.mat')\n",
    "data = data['G'][0][0]\n",
    "\n",
    "macaque_markov = data[3][0][0]\n",
    "macaque_markov_adj = macaque_markov[0]\n",
    "macaque_markov_dist = macaque_markov[2]\n",
    "\n",
    "macaque_modha = data[4][0][0]\n",
    "macaque_modha_adj = macaque_modha[0]\n",
    "macaque_modha_dist = macaque_modha[3]\n",
    "\n",
    "mouse = data[1][0][0]\n",
    "mouse_adj = mouse[0][:56, :56]\n",
    "mouse_dist = mouse[3][:56, :56]\n",
    "\n",
    "celegans = data[5][0][0]\n",
    "celegans_adj = celegans[0]\n",
    "celegans_dist = celegans[2]"
   ]
  },
  {
   "cell_type": "code",
   "execution_count": 8,
   "metadata": {},
   "outputs": [
    {
     "name": "stdout",
     "output_type": "stream",
     "text": [
      "The initial cost is 65284.166270, and the initial flow is  [0.2 0.2 0.2 0.2 0.2]\n",
      "------solve the Wardrop Equilibrium------\n",
      "One of the flows reaches zero\n",
      "Iteration 4: The total cost is 2637.217180, and the flow is  [0.8562884  0.02629146 0.02151    0.01744572 0.07846442]\n"
     ]
    },
    {
     "data": {
      "text/plain": [
       "(2637.217179522042,\n",
       " array([0.8562884 , 0.02629146, 0.02151   , 0.01744572, 0.07846442]))"
      ]
     },
     "execution_count": 8,
     "metadata": {},
     "output_type": "execute_result"
    }
   ],
   "source": [
    "#%%capture\n",
    "G = Graph(adj = macaque_markov_adj, dist=macaque_markov_dist, weights=macaque_markov_adj)\n",
    "#G.findallpaths(0, 3, cutoff=3)\n",
    "WElinearsolve(G, 0, 4, tol=1e-12, cutoff=3)"
   ]
  },
  {
   "cell_type": "code",
   "execution_count": 6,
   "metadata": {},
   "outputs": [
    {
     "data": {
      "text/plain": [
       "[]"
      ]
     },
     "execution_count": 6,
     "metadata": {},
     "output_type": "execute_result"
    }
   ],
   "source": [
    "G.WEflowsLinear[0][3]"
   ]
  },
  {
   "cell_type": "code",
   "execution_count": 7,
   "metadata": {},
   "outputs": [
    {
     "name": "stdout",
     "output_type": "stream",
     "text": [
      "now computing the WE flow of node pair (0, 1)\n",
      "The initial cost is 100089.500134, and the initial flow is  [0.11111111 0.11111111 0.11111111 0.11111111 0.11111111 0.11111111\n",
      " 0.11111111 0.11111111 0.11111111]\n",
      "------solve the Wardrop Equilibrium------\n",
      "One of the flows reaches zero\n",
      "Iteration 7: The total cost is 599.628863, and the flow is  [0.21397777 0.21321026 0.21297079 0.00026257 0.05087925 0.03301343\n",
      " 0.209145   0.01484031 0.05170062]\n",
      "now computing the WE flow of node pair (0, 2)\n",
      "The initial cost is 123278.798452, and the initial flow is  [0.09090909 0.09090909 0.09090909 0.09090909 0.09090909 0.09090909\n",
      " 0.09090909 0.09090909 0.09090909 0.09090909 0.09090909]\n",
      "------solve the Wardrop Equilibrium------\n",
      "One of the flows reaches zero\n",
      "Iteration 7: The total cost is 936.001916, and the flow is  [0.14566978 0.14552608 0.14548608 0.14520096 0.00509996 0.00247398\n",
      " 0.0955833  0.13337983 0.14416046 0.00034749 0.03707208]\n",
      "now computing the WE flow of node pair (0, 3)\n",
      "The initial cost is 42068.391160, and the initial flow is  [0.09090909 0.09090909 0.09090909 0.09090909 0.09090909 0.09090909\n",
      " 0.09090909 0.09090909 0.09090909 0.09090909 0.09090909]\n",
      "------solve the Wardrop Equilibrium------\n",
      "One of the flows reaches zero\n",
      "Iteration 1: The total cost is 41478.574896, and the flow is  [0.0909188  0.09091881 0.09091885 0.09091867 0.09       0.09076577\n",
      " 0.09090603 0.09059461 0.0909185  0.09085664 0.09228332]\n",
      "now computing the WE flow of node pair (0, 4)\n",
      "The initial cost is 65284.166270, and the initial flow is  [0.2 0.2 0.2 0.2 0.2]\n",
      "------solve the Wardrop Equilibrium------\n",
      "One of the flows reaches zero\n",
      "Iteration 4: The total cost is 2637.217180, and the flow is  [0.8562884  0.02629146 0.02151    0.01744572 0.07846442]\n",
      "now computing the WE flow of node pair (0, 5)\n",
      "The initial cost is 23752.421292, and the initial flow is  [0.11111111 0.11111111 0.11111111 0.11111111 0.11111111 0.11111111\n",
      " 0.11111111 0.11111111 0.11111111]\n",
      "------solve the Wardrop Equilibrium------\n",
      "One of the flows reaches zero\n",
      "Iteration 13: The total cost is 2661.038987, and the flow is  [0.01782123 0.06896676 0.41553895 0.00823444 0.13481829 0.16523336\n",
      " 0.054892   0.01548738 0.11900759]\n",
      "now computing the WE flow of node pair (0, 6)\n",
      "The initial cost is 135837.939245, and the initial flow is  [0.25 0.25 0.25 0.25]\n",
      "------solve the Wardrop Equilibrium------\n",
      "One of the flows reaches zero\n",
      "Iteration 5: The total cost is 22452.569300, and the flow is  [0.5051752  0.41014696 0.01949442 0.06518343]\n",
      "now computing the WE flow of node pair (0, 7)\n",
      "The initial cost is 15902.819238, and the initial flow is  [0.1 0.1 0.1 0.1 0.1 0.1 0.1 0.1 0.1 0.1]\n",
      "------solve the Wardrop Equilibrium------\n",
      "One of the flows reaches zero\n",
      "Iteration 5: The total cost is 1695.207592, and the flow is  [0.16696775 0.16468825 0.16740961 0.0027315  0.06225486 0.11106424\n",
      " 0.08113921 0.15128037 0.01174737 0.08071686]\n",
      "now computing the WE flow of node pair (0, 8)\n",
      "The initial cost is 910219.541094, and the initial flow is  [0.25 0.25 0.25 0.25]\n",
      "------solve the Wardrop Equilibrium------\n",
      "One of the flows reaches zero\n",
      "Iteration 6: The total cost is 20994.701096, and the flow is  [0.00128633 0.68522012 0.02245357 0.29103998]\n",
      "now computing the WE flow of node pair (0, 9)\n",
      "The initial cost is 67178.287296, and the initial flow is  [0.09090909 0.09090909 0.09090909 0.09090909 0.09090909 0.09090909\n",
      " 0.09090909 0.09090909 0.09090909 0.09090909 0.09090909]\n",
      "------solve the Wardrop Equilibrium------\n",
      "One of the flows reaches zero\n",
      "Iteration 11: The total cost is 7623.963228, and the flow is  [0.0094049  0.08816256 0.10954767 0.00806817 0.00560589 0.15157457\n",
      " 0.2087962  0.17022575 0.20723933 0.0394077  0.00196725]\n",
      "now computing the WE flow of node pair (0, 10)\n",
      "The initial cost is 29838.300182, and the initial flow is  [0.09090909 0.09090909 0.09090909 0.09090909 0.09090909 0.09090909\n",
      " 0.09090909 0.09090909 0.09090909 0.09090909 0.09090909]\n",
      "------solve the Wardrop Equilibrium------\n",
      "One of the flows reaches zero\n",
      "Iteration 5: The total cost is 14970.425144, and the flow is  [0.07132323 0.11796133 0.12300572 0.11231884 0.01224073 0.12851804\n",
      " 0.13905395 0.03943899 0.10757943 0.09885796 0.04970179]\n",
      "now computing the WE flow of node pair (0, 11)\n",
      "The initial cost is 63287.126041, and the initial flow is  [0.09090909 0.09090909 0.09090909 0.09090909 0.09090909 0.09090909\n",
      " 0.09090909 0.09090909 0.09090909 0.09090909 0.09090909]\n",
      "------solve the Wardrop Equilibrium------\n",
      "One of the flows reaches zero\n",
      "Iteration 11: The total cost is 6444.125290, and the flow is  [0.02165277 0.03314718 0.28246403 0.08195447 0.00481545 0.16922352\n",
      " 0.26503211 0.00169499 0.00620956 0.04019596 0.09360998]\n",
      "now computing the WE flow of node pair (0, 12)\n",
      "The initial cost is 65077.907372, and the initial flow is  [0.125 0.125 0.125 0.125 0.125 0.125 0.125 0.125]\n",
      "------solve the Wardrop Equilibrium------\n",
      "One of the flows reaches zero\n",
      "Iteration 11: The total cost is 13550.441938, and the flow is  [0.01679436 0.03207071 0.00981511 0.29046199 0.51695009 0.04506064\n",
      " 0.02362715 0.06521995]\n",
      "now computing the WE flow of node pair (0, 13)\n",
      "The initial cost is 15859.729219, and the initial flow is  [0.09090909 0.09090909 0.09090909 0.09090909 0.09090909 0.09090909\n",
      " 0.09090909 0.09090909 0.09090909 0.09090909 0.09090909]\n",
      "------solve the Wardrop Equilibrium------\n",
      "One of the flows reaches zero\n",
      "Iteration 5: The total cost is 1678.254842, and the flow is  [0.12501482 0.1414271  0.14050958 0.1209699  0.0031169  0.03490672\n",
      " 0.10470158 0.13537989 0.14084198 0.00619824 0.04693329]\n",
      "now computing the WE flow of node pair (0, 14)\n",
      "The initial cost is 17962.144153, and the initial flow is  [0.1 0.1 0.1 0.1 0.1 0.1 0.1 0.1 0.1 0.1]\n",
      "------solve the Wardrop Equilibrium------\n",
      "One of the flows reaches zero\n",
      "Iteration 5: The total cost is 698.922360, and the flow is  [0.15160794 0.15992945 0.15981854 0.14195636 0.00185428 0.02031199\n",
      " 0.1476986  0.15860908 0.00349501 0.05471876]\n",
      "now computing the WE flow of node pair (0, 15)\n",
      "The initial cost is 756551.599644, and the initial flow is  [0.25 0.25 0.25 0.25]\n",
      "------solve the Wardrop Equilibrium------\n",
      "One of the flows reaches zero\n",
      "Iteration 7: The total cost is 67746.058507, and the flow is  [0.08885327 0.80230336 0.01253673 0.09630664]\n",
      "now computing the WE flow of node pair (0, 16)\n",
      "The initial cost is 29787.793186, and the initial flow is  [0.1 0.1 0.1 0.1 0.1 0.1 0.1 0.1 0.1 0.1]\n",
      "------solve the Wardrop Equilibrium------\n",
      "One of the flows reaches zero\n",
      "Iteration 10: The total cost is 5822.899814, and the flow is  [0.00834652 0.0640887  0.28773132 0.0060082  0.12938653 0.14551538\n",
      " 0.24035559 0.02991366 0.03808337 0.05057074]\n",
      "now computing the WE flow of node pair (0, 17)\n",
      "The initial cost is 367528.089769, and the initial flow is  [0.16666667 0.16666667 0.16666667 0.16666667 0.16666667 0.16666667]\n",
      "------solve the Wardrop Equilibrium------\n",
      "One of the flows reaches zero\n",
      "Iteration 1: The total cost is 361347.907197, and the flow is  [0.16511568 0.16668418 0.16577301 0.165      0.16661583 0.1708113 ]\n",
      "now computing the WE flow of node pair (0, 18)\n",
      "The initial cost is 67414.019892, and the initial flow is  [0.14285714 0.14285714 0.14285714 0.14285714 0.14285714 0.14285714\n",
      " 0.14285714]\n",
      "------solve the Wardrop Equilibrium------\n",
      "One of the flows reaches zero\n",
      "Iteration 13: The total cost is 3522.474382, and the flow is  [0.66565661 0.01555637 0.01814824 0.20960857 0.00776237 0.0351916\n",
      " 0.04807623]\n",
      "now computing the WE flow of node pair (0, 19)\n",
      "The initial cost is 96315.829412, and the initial flow is  [0.14285714 0.14285714 0.14285714 0.14285714 0.14285714 0.14285714\n",
      " 0.14285714]\n",
      "------solve the Wardrop Equilibrium------\n",
      "One of the flows reaches zero\n",
      "Iteration 7: The total cost is 12093.216772, and the flow is  [0.35445991 0.01356417 0.08350837 0.23849053 0.02958791 0.0826681\n",
      " 0.19772101]\n",
      "now computing the WE flow of node pair (0, 20)\n",
      "The initial cost is 69630.954916, and the initial flow is  [0.2 0.2 0.2 0.2 0.2]\n",
      "------solve the Wardrop Equilibrium------\n"
     ]
    },
    {
     "name": "stderr",
     "output_type": "stream",
     "text": [
      "/Users/yingqiuzheng/Documents/Python/workspace/netflows/netflows/funcs/linearsolve.py:144: RuntimeWarning: invalid value encountered in double_scalars\n",
      "  np.inner(gradients - prev_gradients, gradients - prev_gradients)\n",
      "/Users/yingqiuzheng/Documents/Python/workspace/netflows/netflows/funcs/linearsolve.py:108: RuntimeWarning: invalid value encountered in less\n",
      "  if np.sum(np.where(x < 0, 1, 0)) > 0:  # flow in at least one path is negtive\n"
     ]
    },
    {
     "name": "stdout",
     "output_type": "stream",
     "text": [
      "global minimum not found\n",
      "now computing the WE flow of node pair (0, 21)\n",
      "The initial cost is 189931.489541, and the initial flow is  [0.1 0.1 0.1 0.1 0.1 0.1 0.1 0.1 0.1 0.1]\n",
      "------solve the Wardrop Equilibrium------\n",
      "One of the flows reaches zero\n",
      "Iteration 7: The total cost is 17021.456819, and the flow is  [0.01419384 0.02406111 0.22145028 0.02333112 0.18550502 0.21828643\n",
      " 0.00720175 0.01170353 0.12670325 0.16756367]\n",
      "now computing the WE flow of node pair (0, 22)\n",
      "The initial cost is 197524.376695, and the initial flow is  [0.11111111 0.11111111 0.11111111 0.11111111 0.11111111 0.11111111\n",
      " 0.11111111 0.11111111 0.11111111]\n",
      "------solve the Wardrop Equilibrium------\n",
      "One of the flows reaches zero\n",
      "Iteration 11: The total cost is 10375.202310, and the flow is  [0.00222851 0.00202609 0.33948239 0.00855944 0.09287321 0.29904992\n",
      " 0.00869355 0.0994685  0.14761838]\n",
      "now computing the WE flow of node pair (0, 23)\n",
      "The initial cost is 77820.990160, and the initial flow is  [0.14285714 0.14285714 0.14285714 0.14285714 0.14285714 0.14285714\n",
      " 0.14285714]\n",
      "------solve the Wardrop Equilibrium------\n",
      "One of the flows reaches zero\n",
      "Iteration 5: The total cost is 10975.798629, and the flow is  [0.01684199 0.00924599 0.34294029 0.01601874 0.31513322 0.24762303\n",
      " 0.05219674]\n",
      "now computing the WE flow of node pair (0, 24)\n",
      "The initial cost is 58556.766590, and the initial flow is  [0.11111111 0.11111111 0.11111111 0.11111111 0.11111111 0.11111111\n",
      " 0.11111111 0.11111111 0.11111111]\n",
      "------solve the Wardrop Equilibrium------\n",
      "One of the flows reaches zero\n",
      "Iteration 5: The total cost is 13968.250168, and the flow is  [0.01929761 0.1988195  0.09093719 0.01451419 0.03119207 0.22315154\n",
      " 0.01245557 0.10139667 0.30823566]\n",
      "now computing the WE flow of node pair (0, 25)\n",
      "The initial cost is 31538.286988, and the initial flow is  [0.11111111 0.11111111 0.11111111 0.11111111 0.11111111 0.11111111\n",
      " 0.11111111 0.11111111 0.11111111]\n",
      "------solve the Wardrop Equilibrium------\n",
      "One of the flows reaches zero\n",
      "Iteration 11: The total cost is 3238.867947, and the flow is  [0.00877295 0.20470383 0.21010543 0.01498203 0.00251651 0.10331271\n",
      " 0.2109786  0.22867904 0.0159489 ]\n",
      "now computing the WE flow of node pair (0, 26)\n",
      "The initial cost is 359077.178718, and the initial flow is  [0.14285714 0.14285714 0.14285714 0.14285714 0.14285714 0.14285714\n",
      " 0.14285714]\n",
      "------solve the Wardrop Equilibrium------\n",
      "One of the flows reaches zero\n",
      "Iteration 11: The total cost is 30304.003376, and the flow is  [0.00437651 0.30889581 0.29381036 0.00869668 0.12331293 0.24465684\n",
      " 0.01625087]\n",
      "now computing the WE flow of node pair (0, 27)\n",
      "The initial cost is 150295.566346, and the initial flow is  [0.16666667 0.16666667 0.16666667 0.16666667 0.16666667 0.16666667]\n",
      "------solve the Wardrop Equilibrium------\n",
      "One of the flows reaches zero\n",
      "Iteration 13: The total cost is 22217.091473, and the flow is  [0.52822184 0.03186111 0.17655609 0.01493432 0.21941121 0.02901543]\n",
      "now computing the WE flow of node pair (0, 28)\n",
      "The initial cost is 31266.618025, and the initial flow is  [0.1 0.1 0.1 0.1 0.1 0.1 0.1 0.1 0.1 0.1]\n",
      "------solve the Wardrop Equilibrium------\n",
      "One of the flows reaches zero\n",
      "Iteration 7: The total cost is 4399.587126, and the flow is  [0.12949978 0.03794858 0.25085525 0.10962051 0.00919442 0.07143882\n",
      " 0.01910423 0.19863111 0.02296444 0.15074286]\n",
      "now computing the WE flow of node pair (0, 29)\n",
      "now computing the WE flow of node pair (0, 30)\n",
      "now computing the WE flow of node pair (0, 31)\n",
      "The initial cost is 13081.358586, and the initial flow is  [0.1 0.1 0.1 0.1 0.1 0.1 0.1 0.1 0.1 0.1]\n",
      "------solve the Wardrop Equilibrium------\n",
      "One of the flows reaches zero\n",
      "Iteration 1: The total cost is 12879.426379, and the flow is  [0.10000038 0.09999988 0.10000054 0.09999906 0.099      0.09990861\n",
      " 0.09999977 0.09976293 0.09996498 0.10136386]\n",
      "now computing the WE flow of node pair (0, 32)\n",
      "The initial cost is 13623.371290, and the initial flow is  [0.1 0.1 0.1 0.1 0.1 0.1 0.1 0.1 0.1 0.1]\n",
      "------solve the Wardrop Equilibrium------\n",
      "One of the flows reaches zero\n",
      "Iteration 1: The total cost is 13442.685617, and the flow is  [0.09999618 0.09986003 0.10000571 0.09998806 0.099      0.09989716\n",
      " 0.09996441 0.09960636 0.09996178 0.1017203 ]\n",
      "now computing the WE flow of node pair (0, 33)\n",
      "The initial cost is 15722.390034, and the initial flow is  [0.1 0.1 0.1 0.1 0.1 0.1 0.1 0.1 0.1 0.1]\n",
      "------solve the Wardrop Equilibrium------\n",
      "One of the flows reaches zero\n",
      "Iteration 1: The total cost is 15507.201603, and the flow is  [0.09999664 0.10000722 0.10000718 0.09997623 0.099      0.09965812\n",
      " 0.10000448 0.09959923 0.09996567 0.10178522]\n",
      "now computing the WE flow of node pair (0, 34)\n",
      "The initial cost is 111077.789624, and the initial flow is  [0.16666667 0.16666667 0.16666667 0.16666667 0.16666667 0.16666667]\n",
      "------solve the Wardrop Equilibrium------\n",
      "Iteration 57: The total cost is 39634.586583, and the flow is  [0.02680955 0.02741976 0.10486765 0.39301766 0.08120798 0.3666774 ]\n",
      "now computing the WE flow of node pair (0, 35)\n",
      "The initial cost is 35829.489783, and the initial flow is  [0.25 0.25 0.25 0.25]\n",
      "------solve the Wardrop Equilibrium------\n",
      "One of the flows reaches zero\n",
      "Iteration 10: The total cost is 1871.198238, and the flow is  [0.89202461 0.0757294  0.00407099 0.028175  ]\n",
      "now computing the WE flow of node pair (0, 36)\n",
      "The initial cost is 15593.576319, and the initial flow is  [0.08333333 0.08333333 0.08333333 0.08333333 0.08333333 0.08333333\n",
      " 0.08333333 0.08333333 0.08333333 0.08333333 0.08333333 0.08333333]\n",
      "------solve the Wardrop Equilibrium------\n",
      "One of the flows reaches zero\n",
      "Iteration 5: The total cost is 1991.119806, and the flow is  [0.09217357 0.09867768 0.10225076 0.09298107 0.00277972 0.00767314\n",
      " 0.09405777 0.09510847 0.10086457 0.03293966 0.08699929 0.19349429]\n",
      "now computing the WE flow of node pair (0, 37)\n",
      "The initial cost is 24012.340065, and the initial flow is  [0.16666667 0.16666667 0.16666667 0.16666667 0.16666667 0.16666667]\n",
      "------solve the Wardrop Equilibrium------\n"
     ]
    },
    {
     "ename": "KeyboardInterrupt",
     "evalue": "",
     "output_type": "error",
     "traceback": [
      "\u001b[0;31m---------------------------------------------------------------------------\u001b[0m",
      "\u001b[0;31mKeyboardInterrupt\u001b[0m                         Traceback (most recent call last)",
      "\u001b[0;32m<ipython-input-7-cec22feb189d>\u001b[0m in \u001b[0;36m<module>\u001b[0;34m()\u001b[0m\n\u001b[1;32m      9\u001b[0m             \u001b[0mprint\u001b[0m\u001b[0;34m(\u001b[0m\u001b[0;34m'now computing the WE flow of node pair (%d, %d)'\u001b[0m \u001b[0;34m%\u001b[0m \u001b[0;34m(\u001b[0m\u001b[0mrow\u001b[0m\u001b[0;34m,\u001b[0m \u001b[0mcol\u001b[0m\u001b[0;34m)\u001b[0m\u001b[0;34m)\u001b[0m\u001b[0;34m\u001b[0m\u001b[0m\n\u001b[1;32m     10\u001b[0m             \u001b[0;32mif\u001b[0m \u001b[0mG\u001b[0m\u001b[0;34m.\u001b[0m\u001b[0mfindallpaths\u001b[0m\u001b[0;34m(\u001b[0m\u001b[0mrow\u001b[0m\u001b[0;34m,\u001b[0m \u001b[0mcol\u001b[0m\u001b[0;34m,\u001b[0m \u001b[0mcutoff\u001b[0m\u001b[0;34m=\u001b[0m\u001b[0;36m3\u001b[0m\u001b[0;34m)\u001b[0m\u001b[0;34m:\u001b[0m\u001b[0;34m\u001b[0m\u001b[0m\n\u001b[0;32m---> 11\u001b[0;31m                 \u001b[0mWElinearsolve\u001b[0m\u001b[0;34m(\u001b[0m\u001b[0mG\u001b[0m\u001b[0;34m,\u001b[0m \u001b[0mrow\u001b[0m\u001b[0;34m,\u001b[0m \u001b[0mcol\u001b[0m\u001b[0;34m,\u001b[0m \u001b[0mtol\u001b[0m\u001b[0;34m=\u001b[0m\u001b[0;36m1e-12\u001b[0m\u001b[0;34m)\u001b[0m\u001b[0;34m\u001b[0m\u001b[0m\n\u001b[0m",
      "\u001b[0;32m/Users/yingqiuzheng/Documents/Python/workspace/netflows/netflows/funcs/linearsolve.py\u001b[0m in \u001b[0;36mWElinearsolve\u001b[0;34m(G, s, t, tol, maximum_iter, cutoff, a)\u001b[0m\n\u001b[1;32m     23\u001b[0m         \u001b[0ma\u001b[0m \u001b[0;34m=\u001b[0m \u001b[0mG\u001b[0m\u001b[0;34m.\u001b[0m\u001b[0mdist_weight_ratio\u001b[0m\u001b[0;34m\u001b[0m\u001b[0m\n\u001b[1;32m     24\u001b[0m \u001b[0;34m\u001b[0m\u001b[0m\n\u001b[0;32m---> 25\u001b[0;31m     \u001b[0;32mreturn\u001b[0m \u001b[0m_WElinearsolve\u001b[0m\u001b[0;34m(\u001b[0m\u001b[0mG\u001b[0m\u001b[0;34m,\u001b[0m \u001b[0ms\u001b[0m\u001b[0;34m,\u001b[0m \u001b[0mt\u001b[0m\u001b[0;34m,\u001b[0m \u001b[0mtol\u001b[0m\u001b[0;34m,\u001b[0m \u001b[0mmaximum_iter\u001b[0m\u001b[0;34m,\u001b[0m \u001b[0mallpaths\u001b[0m\u001b[0;34m,\u001b[0m \u001b[0ma\u001b[0m\u001b[0;34m)\u001b[0m\u001b[0;34m\u001b[0m\u001b[0m\n\u001b[0m\u001b[1;32m     26\u001b[0m \u001b[0;34m\u001b[0m\u001b[0m\n\u001b[1;32m     27\u001b[0m \u001b[0;32mdef\u001b[0m \u001b[0mSOlinearsolve\u001b[0m\u001b[0;34m(\u001b[0m\u001b[0mG\u001b[0m\u001b[0;34m,\u001b[0m \u001b[0ms\u001b[0m\u001b[0;34m,\u001b[0m \u001b[0mt\u001b[0m\u001b[0;34m,\u001b[0m \u001b[0mtol\u001b[0m\u001b[0;34m=\u001b[0m\u001b[0;36m1e-12\u001b[0m\u001b[0;34m,\u001b[0m \u001b[0mmaximum_iter\u001b[0m \u001b[0;34m=\u001b[0m \u001b[0;36m10000\u001b[0m\u001b[0;34m,\u001b[0m \u001b[0mcutoff\u001b[0m \u001b[0;34m=\u001b[0m \u001b[0;32mNone\u001b[0m\u001b[0;34m,\u001b[0m \u001b[0ma\u001b[0m \u001b[0;34m=\u001b[0m \u001b[0;32mNone\u001b[0m\u001b[0;34m)\u001b[0m\u001b[0;34m:\u001b[0m\u001b[0;34m\u001b[0m\u001b[0m\n",
      "\u001b[0;32m/Users/yingqiuzheng/Documents/Python/workspace/netflows/netflows/funcs/linearsolve.py\u001b[0m in \u001b[0;36m_WElinearsolve\u001b[0;34m(G, s, t, tol, maximum_iter, allpaths, a)\u001b[0m\n\u001b[1;32m    104\u001b[0m         \u001b[0;31m# update x\u001b[0m\u001b[0;34m\u001b[0m\u001b[0;34m\u001b[0m\u001b[0m\n\u001b[1;32m    105\u001b[0m         \u001b[0mx\u001b[0m\u001b[0;34m[\u001b[0m\u001b[0;34m:\u001b[0m\u001b[0;34m-\u001b[0m\u001b[0;36m1\u001b[0m\u001b[0;34m]\u001b[0m \u001b[0;34m=\u001b[0m \u001b[0mprev_x\u001b[0m\u001b[0;34m[\u001b[0m\u001b[0;34m:\u001b[0m\u001b[0;34m-\u001b[0m\u001b[0;36m1\u001b[0m\u001b[0;34m]\u001b[0m \u001b[0;34m-\u001b[0m \u001b[0mgamma\u001b[0m \u001b[0;34m*\u001b[0m \u001b[0mgradients\u001b[0m\u001b[0;34m\u001b[0m\u001b[0m\n\u001b[0;32m--> 106\u001b[0;31m         \u001b[0mx\u001b[0m\u001b[0;34m[\u001b[0m\u001b[0;34m-\u001b[0m\u001b[0;36m1\u001b[0m\u001b[0;34m]\u001b[0m \u001b[0;34m=\u001b[0m \u001b[0;36m1\u001b[0m \u001b[0;34m-\u001b[0m \u001b[0mnp\u001b[0m\u001b[0;34m.\u001b[0m\u001b[0msum\u001b[0m\u001b[0;34m(\u001b[0m\u001b[0mx\u001b[0m\u001b[0;34m[\u001b[0m\u001b[0;34m:\u001b[0m\u001b[0;34m-\u001b[0m\u001b[0;36m1\u001b[0m\u001b[0;34m]\u001b[0m\u001b[0;34m)\u001b[0m  \u001b[0;31m# the flow in the last path\u001b[0m\u001b[0;34m\u001b[0m\u001b[0m\n\u001b[0m\u001b[1;32m    107\u001b[0m \u001b[0;34m\u001b[0m\u001b[0m\n\u001b[1;32m    108\u001b[0m         \u001b[0;32mif\u001b[0m \u001b[0mnp\u001b[0m\u001b[0;34m.\u001b[0m\u001b[0msum\u001b[0m\u001b[0;34m(\u001b[0m\u001b[0mnp\u001b[0m\u001b[0;34m.\u001b[0m\u001b[0mwhere\u001b[0m\u001b[0;34m(\u001b[0m\u001b[0mx\u001b[0m \u001b[0;34m<\u001b[0m \u001b[0;36m0\u001b[0m\u001b[0;34m,\u001b[0m \u001b[0;36m1\u001b[0m\u001b[0;34m,\u001b[0m \u001b[0;36m0\u001b[0m\u001b[0;34m)\u001b[0m\u001b[0;34m)\u001b[0m \u001b[0;34m>\u001b[0m \u001b[0;36m0\u001b[0m\u001b[0;34m:\u001b[0m  \u001b[0;31m# flow in at least one path is negtive\u001b[0m\u001b[0;34m\u001b[0m\u001b[0m\n",
      "\u001b[0;32m/Users/yingqiuzheng/anaconda3/lib/python3.5/site-packages/numpy/core/fromnumeric.py\u001b[0m in \u001b[0;36msum\u001b[0;34m(a, axis, dtype, out, keepdims, initial)\u001b[0m\n\u001b[1;32m   1928\u001b[0m \u001b[0;34m\u001b[0m\u001b[0m\n\u001b[1;32m   1929\u001b[0m     return _wrapreduction(a, np.add, 'sum', axis, dtype, out, keepdims=keepdims,\n\u001b[0;32m-> 1930\u001b[0;31m                           initial=initial)\n\u001b[0m\u001b[1;32m   1931\u001b[0m \u001b[0;34m\u001b[0m\u001b[0m\n\u001b[1;32m   1932\u001b[0m \u001b[0;34m\u001b[0m\u001b[0m\n",
      "\u001b[0;32m/Users/yingqiuzheng/anaconda3/lib/python3.5/site-packages/numpy/core/fromnumeric.py\u001b[0m in \u001b[0;36m_wrapreduction\u001b[0;34m(obj, ufunc, method, axis, dtype, out, **kwargs)\u001b[0m\n\u001b[1;32m     81\u001b[0m                 \u001b[0;32mreturn\u001b[0m \u001b[0mreduction\u001b[0m\u001b[0;34m(\u001b[0m\u001b[0maxis\u001b[0m\u001b[0;34m=\u001b[0m\u001b[0maxis\u001b[0m\u001b[0;34m,\u001b[0m \u001b[0mout\u001b[0m\u001b[0;34m=\u001b[0m\u001b[0mout\u001b[0m\u001b[0;34m,\u001b[0m \u001b[0;34m**\u001b[0m\u001b[0mpasskwargs\u001b[0m\u001b[0;34m)\u001b[0m\u001b[0;34m\u001b[0m\u001b[0m\n\u001b[1;32m     82\u001b[0m \u001b[0;34m\u001b[0m\u001b[0m\n\u001b[0;32m---> 83\u001b[0;31m     \u001b[0;32mreturn\u001b[0m \u001b[0mufunc\u001b[0m\u001b[0;34m.\u001b[0m\u001b[0mreduce\u001b[0m\u001b[0;34m(\u001b[0m\u001b[0mobj\u001b[0m\u001b[0;34m,\u001b[0m \u001b[0maxis\u001b[0m\u001b[0;34m,\u001b[0m \u001b[0mdtype\u001b[0m\u001b[0;34m,\u001b[0m \u001b[0mout\u001b[0m\u001b[0;34m,\u001b[0m \u001b[0;34m**\u001b[0m\u001b[0mpasskwargs\u001b[0m\u001b[0;34m)\u001b[0m\u001b[0;34m\u001b[0m\u001b[0m\n\u001b[0m\u001b[1;32m     84\u001b[0m \u001b[0;34m\u001b[0m\u001b[0m\n\u001b[1;32m     85\u001b[0m \u001b[0;34m\u001b[0m\u001b[0m\n",
      "\u001b[0;31mKeyboardInterrupt\u001b[0m: "
     ]
    }
   ],
   "source": [
    "for row in range(G.adj.shape[0]):\n",
    "    for col in range(G.adj.shape[1]):\n",
    "        if row == col:\n",
    "            continue\n",
    "        else:\n",
    "            print('now computing the WE flow of node pair (%d, %d)' % (row, col))\n",
    "            if G.findallpaths(row, col, cutoff=3):\n",
    "                WElinearsolve(G, row, col, tol=1e-12)"
   ]
  },
  {
   "cell_type": "code",
   "execution_count": null,
   "metadata": {
    "collapsed": true
   },
   "outputs": [],
   "source": []
  }
 ],
 "metadata": {
  "kernelspec": {
   "display_name": "Python [conda env:anaconda3]",
   "language": "python",
   "name": "conda-env-anaconda3-py"
  },
  "language_info": {
   "codemirror_mode": {
    "name": "ipython",
    "version": 3
   },
   "file_extension": ".py",
   "mimetype": "text/x-python",
   "name": "python",
   "nbconvert_exporter": "python",
   "pygments_lexer": "ipython3",
   "version": "3.5.3"
  }
 },
 "nbformat": 4,
 "nbformat_minor": 2
}
